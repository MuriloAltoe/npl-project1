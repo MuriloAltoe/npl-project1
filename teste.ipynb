{
 "cells": [
  {
   "cell_type": "code",
   "execution_count": 2,
   "metadata": {},
   "outputs": [],
   "source": [
    "import random\n",
    "import spacy\n",
    "import nltk\n",
    "from goose3 import Goose\n",
    "from sklearn.feature_extraction.text import TfidfVectorizer\n",
    "from sklearn.metrics.pairwise import cosine_similarity\n",
    "from wordcloud import WordCloud\n",
    "import matplotlib.pyplot as plt\n",
    "from tkinter import *\n",
    "from tkinter import scrolledtext\n",
    "from PIL import Image, ImageTk\n",
    "import io\n"
   ]
  },
  {
   "cell_type": "code",
   "execution_count": 18,
   "metadata": {},
   "outputs": [
    {
     "name": "stderr",
     "output_type": "stream",
     "text": [
      "[nltk_data] Downloading package punkt_tab to\n",
      "[nltk_data]     C:\\Users\\muril\\AppData\\Roaming\\nltk_data...\n",
      "[nltk_data]   Unzipping tokenizers\\punkt_tab.zip.\n"
     ]
    },
    {
     "data": {
      "text/plain": [
       "True"
      ]
     },
     "execution_count": 18,
     "metadata": {},
     "output_type": "execute_result"
    }
   ],
   "source": [
    "nltk.download('punkt_tab')"
   ]
  },
  {
   "cell_type": "code",
   "execution_count": 9,
   "metadata": {},
   "outputs": [],
   "source": [
    "# Inicializando o spaCy com o modelo de português\n",
    "nlp = spacy.load('pt_core_news_sm')\n",
    "\n",
    "# Definindo palavras de boas-vindas\n",
    "welcome_words_input = ['olá', 'oi', 'hey', 'bom dia', 'boa tarde', 'boa noite']\n",
    "welcome_words_output = [\n",
    "    'Olá! Como posso ajudar você sobre sonic hoje?',\n",
    "    'Olá! Fique à vontade para perguntar sobre sonic.',\n",
    "    'Oi! Em que posso ajudar com relação à sonic?'\n",
    "]"
   ]
  },
  {
   "cell_type": "code",
   "execution_count": 16,
   "metadata": {},
   "outputs": [],
   "source": [
    "# Função para mensagens de boas-vindas\n",
    "def welcome_message(text):\n",
    "    for word in text.lower().split():\n",
    "        if word in welcome_words_input:\n",
    "            return random.choice(welcome_words_output)\n",
    "    return None\n",
    "\n",
    "# Função de pré-processamento de texto\n",
    "def preprocessing(sentence):\n",
    "    sentence = sentence.lower()\n",
    "    tokens = [token.text for token in nlp(sentence) if not (token.is_stop or token.like_num\n",
    "                                                              or token.is_punct or token.is_space\n",
    "                                                              or len(token) == 1)]\n",
    "    return ' '.join(tokens)"
   ]
  },
  {
   "cell_type": "code",
   "execution_count": 19,
   "metadata": {},
   "outputs": [],
   "source": [
    "# Coletando e processando as sentenças\n",
    "original_sentences = []\n",
    "\n",
    "g = Goose()\n",
    "article = g.extract(url='https://pt.wikipedia.org/wiki/Sonic_the_Hedgehog')\n",
    "\n",
    "sentences = nltk.sent_tokenize(article.cleaned_text)\n",
    "original_sentences.extend(sentences)"
   ]
  },
  {
   "cell_type": "code",
   "execution_count": 20,
   "metadata": {},
   "outputs": [],
   "source": [
    "# Pré-processamento das sentenças\n",
    "cleaned_sentences = [preprocessing(sentence) for sentence in original_sentences]\n",
    "\n",
    "# Função para responder às perguntas do usuário\n",
    "def answer(user_text, threshold=0.2):\n",
    "    user_text_clean = preprocessing(user_text)\n",
    "    all_sentences = cleaned_sentences + [user_text_clean]\n",
    "    \n",
    "    vectorizer = TfidfVectorizer()\n",
    "    tfidf = vectorizer.fit_transform(all_sentences)\n",
    "    \n",
    "    similarity = cosine_similarity(tfidf[-1], tfidf)\n",
    "    similarity_scores = similarity.flatten()\n",
    "    \n",
    "    # Encontrar a sentença com maior similaridade, excluindo a própria\n",
    "    highest_idx = similarity_scores.argsort()[-2]\n",
    "    highest_score = similarity_scores[highest_idx]\n",
    "    \n",
    "    if highest_score < threshold:\n",
    "        return 'Desculpe, não encontrei uma resposta adequada para sua pergunta.'\n",
    "    else:\n",
    "        return original_sentences[highest_idx]\n",
    "\n",
    "# Função para gerar a nuvem de palavras\n",
    "def generate_wordcloud(text):\n",
    "    wordcloud = WordCloud(width=800, height=400, background_color='white').generate(text)\n",
    "    return wordcloud"
   ]
  },
  {
   "cell_type": "code",
   "execution_count": 24,
   "metadata": {},
   "outputs": [],
   "source": [
    "\n",
    "# Preparando a base de conhecimento para a nuvem de palavras\n",
    "full_text = ' '.join(cleaned_sentences)\n",
    "wordcloud = generate_wordcloud(full_text)\n",
    "\n",
    "# Salvando a nuvem de palavras em memória\n",
    "image_stream = io.BytesIO()\n",
    "wordcloud.to_image().save(image_stream, format='PNG')\n",
    "image_stream.seek(0)\n",
    "wordcloud_image = Image.open(image_stream)\n",
    "\n",
    "# Função do Chatbot para a interface\n",
    "def send_message():\n",
    "    user_input = user_entry.get()\n",
    "    if user_input.lower() in ['sair', 'quit', 'exit']:\n",
    "        chat_window.config(state=NORMAL)\n",
    "        chat_window.insert(END, \"Chatbot: Até logo! Bom apetite!\\n\")\n",
    "        chat_window.config(state=DISABLED)\n",
    "        root.after(2000, root.destroy)\n",
    "        return\n",
    "    if user_input.strip() == '':\n",
    "        return\n",
    "    chat_window.config(state=NORMAL)\n",
    "    chat_window.insert(END, f\"Você: {user_input}\\n\")\n",
    "    user_entry.delete(0, END)\n",
    "    \n",
    "    welcome = welcome_message(user_input)\n",
    "    if welcome:\n",
    "        response = welcome\n",
    "    else:\n",
    "        response = answer(user_input)\n",
    "    chat_window.insert(END, f\"Chatbot: {response}\\n\")\n",
    "    chat_window.yview(END)\n",
    "    chat_window.config(state=DISABLED)\n",
    "\n",
    "# Inicializando a janela do Tkinter\n",
    "root = Tk()\n",
    "root.title(\"Chatbot de Culinária Brasileira\")\n",
    "root.geometry(\"800x600\")\n",
    "root.resizable(False, False)\n",
    "\n",
    "# Frame para o chat\n",
    "chat_frame = Frame(root)\n",
    "chat_frame.pack(pady=10)\n",
    "\n",
    "# Área de texto para exibir o chat\n",
    "chat_window = scrolledtext.ScrolledText(chat_frame, wrap=WORD, width=80, height=20, state=DISABLED)\n",
    "chat_window.pack()\n",
    "\n",
    "# Frame para a entrada do usuário\n",
    "input_frame = Frame(root)\n",
    "input_frame.pack(pady=10)\n",
    "\n",
    "# Entrada de texto para o usuário\n",
    "user_entry = Entry(input_frame, width=70)\n",
    "user_entry.pack(side='left', padx=10)\n",
    "\n",
    "# Botão para enviar a mensagem\n",
    "send_button = Button(input_frame, text=\"Enviar\", command=send_message)\n",
    "send_button.pack(side='left')\n",
    "\n",
    "# Frame para a nuvem de palavras\n",
    "wordcloud_frame = Frame(root)\n",
    "wordcloud_frame.pack(pady=10)\n",
    "\n",
    "# Label para a nuvem de palavras\n",
    "wordcloud_label = Label(wordcloud_frame)\n",
    "wordcloud_label.pack()\n",
    "\n",
    "# Função para exibir a nuvem de palavras\n",
    "# def display_wordcloud():\n",
    "#     resized_image = wordcloud_image.resize((750, 375), Image.Resampling.LANCZOS)\n",
    "#     tk_image = ImageTk.PhotoImage(resized_image)\n",
    "#     wordcloud_label.configure(image=tk_image)\n",
    "#     wordcloud_label.image = tk_image\n",
    "\n",
    "# Exibindo a nuvem de palavras ao iniciar\n",
    "# display_wordcloud()\n",
    "\n",
    "# Iniciando o Chatbot\n",
    "def start_chatbot():\n",
    "    chat_window.config(state=NORMAL)\n",
    "    chat_window.insert(END, \"Chatbot: Olá! Eu sou um chatbot. Faça sua pergunta ou digite 'sair' para encerrar.\\n\")\n",
    "    chat_window.config(state=DISABLED)\n",
    "\n",
    "start_chatbot()\n",
    "\n",
    "# Bind Enter key to send message\n",
    "root.bind('<Return>', lambda event: send_message())\n",
    "\n",
    "# Executando a interface\n",
    "root.mainloop()\n"
   ]
  }
 ],
 "metadata": {
  "kernelspec": {
   "display_name": "venv",
   "language": "python",
   "name": "python3"
  },
  "language_info": {
   "codemirror_mode": {
    "name": "ipython",
    "version": 3
   },
   "file_extension": ".py",
   "mimetype": "text/x-python",
   "name": "python",
   "nbconvert_exporter": "python",
   "pygments_lexer": "ipython3",
   "version": "3.12.6"
  }
 },
 "nbformat": 4,
 "nbformat_minor": 2
}
